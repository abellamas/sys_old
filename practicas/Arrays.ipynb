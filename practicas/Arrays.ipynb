{
 "cells": [
  {
   "cell_type": "code",
   "execution_count": 1,
   "id": "2018b514",
   "metadata": {
    "pycharm": {
     "name": "#%%\n"
    }
   },
   "outputs": [],
   "source": [
    "import numpy as np"
   ]
  },
  {
   "cell_type": "markdown",
   "id": "c9c05367",
   "metadata": {
    "pycharm": {
     "name": "#%% md\n"
    }
   },
   "source": [
    "# arange - Arrays con secuencia y paso"
   ]
  },
  {
   "cell_type": "code",
   "execution_count": 2,
   "id": "0654bb80",
   "metadata": {
    "pycharm": {
     "name": "#%%\n"
    }
   },
   "outputs": [],
   "source": [
    "my_array = np.arange(0,10,2)"
   ]
  },
  {
   "cell_type": "code",
   "execution_count": 3,
   "id": "7e20dbde",
   "metadata": {
    "pycharm": {
     "name": "#%%\n"
    }
   },
   "outputs": [
    {
     "data": {
      "text/plain": [
       "array([0, 2, 4, 6, 8])"
      ]
     },
     "execution_count": 3,
     "metadata": {},
     "output_type": "execute_result"
    }
   ],
   "source": [
    "my_array"
   ]
  },
  {
   "cell_type": "code",
   "execution_count": 4,
   "id": "4888b0a5",
   "metadata": {
    "pycharm": {
     "name": "#%%\n"
    }
   },
   "outputs": [
    {
     "name": "stdout",
     "output_type": "stream",
     "text": [
      "<class 'numpy.ndarray'>\n"
     ]
    }
   ],
   "source": [
    "print(type(my_array))"
   ]
  },
  {
   "cell_type": "markdown",
   "id": "74306a6c",
   "metadata": {
    "pycharm": {
     "name": "#%% md\n"
    }
   },
   "source": [
    "# array - Arrays definidos"
   ]
  },
  {
   "cell_type": "code",
   "execution_count": 5,
   "id": "120dcc4f",
   "metadata": {
    "pycharm": {
     "name": "#%%\n"
    }
   },
   "outputs": [],
   "source": [
    "my_array_int = np.array([1,2,3])"
   ]
  },
  {
   "cell_type": "code",
   "execution_count": 6,
   "id": "eab8b1b5",
   "metadata": {
    "pycharm": {
     "name": "#%%\n"
    }
   },
   "outputs": [
    {
     "name": "stdout",
     "output_type": "stream",
     "text": [
      "[1 2 3]\n"
     ]
    }
   ],
   "source": [
    "print(my_array_int)"
   ]
  },
  {
   "cell_type": "code",
   "execution_count": 7,
   "id": "d833a5e2",
   "metadata": {
    "pycharm": {
     "name": "#%%\n"
    }
   },
   "outputs": [
    {
     "name": "stdout",
     "output_type": "stream",
     "text": [
      "<class 'numpy.ndarray'>\n"
     ]
    }
   ],
   "source": [
    "print(type(my_array_int))"
   ]
  },
  {
   "cell_type": "markdown",
   "id": "c0c87f97",
   "metadata": {
    "pycharm": {
     "name": "#%% md\n"
    }
   },
   "source": [
    "En ambos casos con el método __array__ o __arange__ se obtiene un objeto _numpy.ndarray_"
   ]
  },
  {
   "cell_type": "markdown",
   "id": "5ef3ac9c",
   "metadata": {
    "pycharm": {
     "name": "#%% md\n"
    }
   },
   "source": [
    "¿Por qué array y no list? Porque los objetos numpy.ndarray tiene un manejo mas eficiente en la memoria. Esto se debe también a aque con un objeto tipo list se pueden guardar distintos tipos de datos en un mismo array: boolean, string, int, etc. Mientras que con numpy.ndarray solo se utiliza un solo tipo de dato. Esta caracteristica hace que se ahorre memoria en un programa."
   ]
  },
  {
   "cell_type": "code",
   "execution_count": 8,
   "id": "fd68ae8d",
   "metadata": {
    "pycharm": {
     "name": "#%%\n"
    }
   },
   "outputs": [],
   "source": [
    "my_array_str = np.array([1,'dos',3])"
   ]
  },
  {
   "cell_type": "code",
   "execution_count": 9,
   "id": "f7d6eb96",
   "metadata": {
    "pycharm": {
     "name": "#%%\n"
    }
   },
   "outputs": [
    {
     "name": "stdout",
     "output_type": "stream",
     "text": [
      "['1' 'dos' '3']\n"
     ]
    }
   ],
   "source": [
    "print(my_array_str)"
   ]
  },
  {
   "cell_type": "code",
   "execution_count": 10,
   "id": "5cd8d321",
   "metadata": {
    "pycharm": {
     "name": "#%%\n"
    }
   },
   "outputs": [
    {
     "name": "stdout",
     "output_type": "stream",
     "text": [
      "<class 'numpy.str_'>\n"
     ]
    }
   ],
   "source": [
    "print(type(my_array_str[1]))"
   ]
  },
  {
   "cell_type": "code",
   "execution_count": 11,
   "id": "33116d94",
   "metadata": {
    "pycharm": {
     "name": "#%%\n"
    }
   },
   "outputs": [
    {
     "name": "stdout",
     "output_type": "stream",
     "text": [
      "<class 'numpy.int32'>\n"
     ]
    }
   ],
   "source": [
    "print(type(my_array_int[1]))"
   ]
  },
  {
   "cell_type": "markdown",
   "id": "97b52f54",
   "metadata": {
    "pycharm": {
     "name": "#%% md\n"
    }
   },
   "source": [
    "## Especificar el tamaño del tipo de dato"
   ]
  },
  {
   "cell_type": "code",
   "execution_count": 12,
   "id": "a9c5e9d9",
   "metadata": {
    "pycharm": {
     "name": "#%%\n"
    }
   },
   "outputs": [],
   "source": [
    "array_int8 = np.array([1,2,3], dtype=np.int8)"
   ]
  },
  {
   "cell_type": "code",
   "execution_count": 13,
   "id": "5ac3c671",
   "metadata": {
    "pycharm": {
     "name": "#%%\n"
    }
   },
   "outputs": [],
   "source": [
    "array_int64 = np.array([1,2,3], dtype=np.int64)"
   ]
  },
  {
   "cell_type": "code",
   "execution_count": 14,
   "id": "4866d8fe",
   "metadata": {
    "pycharm": {
     "name": "#%%\n"
    }
   },
   "outputs": [
    {
     "name": "stdout",
     "output_type": "stream",
     "text": [
      "<class 'numpy.int8'>\n"
     ]
    }
   ],
   "source": [
    "print(type(array_int8[0]))"
   ]
  },
  {
   "cell_type": "code",
   "execution_count": 15,
   "id": "2a27c85b",
   "metadata": {
    "pycharm": {
     "name": "#%%\n"
    }
   },
   "outputs": [
    {
     "name": "stdout",
     "output_type": "stream",
     "text": [
      "<class 'numpy.int64'>\n"
     ]
    }
   ],
   "source": [
    "print(type(array_int64[0]))"
   ]
  },
  {
   "cell_type": "markdown",
   "id": "3c03f87a",
   "metadata": {
    "pycharm": {
     "name": "#%% md\n"
    }
   },
   "source": [
    "En este ejemplo, el objeto _numpy.ndarray_ almacena en cada posición distintos tipos de datos, siendo int8 un consumo menor de memoria que int64. Esto se debe pensar desde la lógica binaria, ya que int8 permite utilizar hasta 8 bits de información 2^8=256, mientras que int64 llega a 2^64=1.846e19. Lo cual logicamente quiere decir que int64 puede guardar muchos mas números pero a costo de utilizar mucha mas memoria, lo cual puede ser ineficiente dependiendo del tipo de dato que se utilice."
   ]
  },
  {
   "cell_type": "markdown",
   "id": "43a14e57",
   "metadata": {
    "pycharm": {
     "name": "#%% md\n"
    }
   },
   "source": [
    "La variable __array_int8__ puede almacenar un numero del 0 al 255, es decir 256 objetos. ¿Que pasa si se coloca el número 500 en una posición?"
   ]
  },
  {
   "cell_type": "code",
   "execution_count": 16,
   "id": "754e8e13",
   "metadata": {
    "pycharm": {
     "name": "#%%\n"
    }
   },
   "outputs": [],
   "source": [
    "array_int8 = np.array([500,2,3], dtype=np.int8)"
   ]
  },
  {
   "cell_type": "code",
   "execution_count": 17,
   "id": "9fc753d2",
   "metadata": {
    "pycharm": {
     "name": "#%%\n"
    }
   },
   "outputs": [
    {
     "name": "stdout",
     "output_type": "stream",
     "text": [
      "[-12   2   3]\n"
     ]
    }
   ],
   "source": [
    "print(array_int8)"
   ]
  },
  {
   "cell_type": "markdown",
   "id": "9db30673",
   "metadata": {
    "pycharm": {
     "name": "#%% md\n"
    }
   },
   "source": [
    "Los datos no se muestran correctamente, una vez que se excede el 255 el número vuelve a 0."
   ]
  },
  {
   "cell_type": "markdown",
   "id": "e9033c6f",
   "metadata": {
    "pycharm": {
     "name": "#%% md\n"
    }
   },
   "source": [
    "# 2D arrays"
   ]
  },
  {
   "cell_type": "markdown",
   "id": "2be19dfd",
   "metadata": {
    "pycharm": {
     "name": "#%% md\n"
    }
   },
   "source": [
    "Se pueden crear arrays de n dimensiones, tal como sería una matriz"
   ]
  },
  {
   "cell_type": "code",
   "execution_count": 18,
   "id": "f17b7426",
   "metadata": {
    "pycharm": {
     "name": "#%%\n"
    }
   },
   "outputs": [],
   "source": [
    "array_two_dim = np.array([[1,2,3],[3,4,5]])"
   ]
  },
  {
   "cell_type": "code",
   "execution_count": 19,
   "id": "3bbdf6bc",
   "metadata": {
    "pycharm": {
     "name": "#%%\n"
    }
   },
   "outputs": [
    {
     "data": {
      "text/plain": [
       "array([[1, 2, 3],\n",
       "       [3, 4, 5]])"
      ]
     },
     "execution_count": 19,
     "metadata": {},
     "output_type": "execute_result"
    }
   ],
   "source": [
    "array_two_dim"
   ]
  },
  {
   "cell_type": "code",
   "execution_count": 20,
   "id": "ae3a44d3",
   "metadata": {
    "pycharm": {
     "name": "#%%\n"
    }
   },
   "outputs": [
    {
     "data": {
      "text/plain": [
       "numpy.ndarray"
      ]
     },
     "execution_count": 20,
     "metadata": {},
     "output_type": "execute_result"
    }
   ],
   "source": [
    "type(array_two_dim)"
   ]
  },
  {
   "cell_type": "markdown",
   "id": "732714d4",
   "metadata": {
    "pycharm": {
     "name": "#%% md\n"
    }
   },
   "source": [
    "Se puede crear tambien cada fila como secuencia"
   ]
  },
  {
   "cell_type": "code",
   "execution_count": 21,
   "id": "2b78ecef",
   "metadata": {
    "pycharm": {
     "name": "#%%\n"
    }
   },
   "outputs": [],
   "source": [
    "array_2d_seq = np.array([np.arange(0,8,2), np.arange(1,8,2)], dtype=np.int8)"
   ]
  },
  {
   "cell_type": "code",
   "execution_count": 22,
   "id": "427e8c99",
   "metadata": {
    "pycharm": {
     "name": "#%%\n"
    }
   },
   "outputs": [
    {
     "name": "stdout",
     "output_type": "stream",
     "text": [
      "[[0 2 4 6]\n",
      " [1 3 5 7]]\n"
     ]
    }
   ],
   "source": [
    "print(array_2d_seq)"
   ]
  },
  {
   "cell_type": "markdown",
   "id": "eb92c0a0",
   "metadata": {
    "pycharm": {
     "name": "#%% md\n"
    }
   },
   "source": [
    "## Dimensión de un array"
   ]
  },
  {
   "cell_type": "code",
   "execution_count": 23,
   "id": "c5369d0b",
   "metadata": {
    "pycharm": {
     "name": "#%%\n"
    }
   },
   "outputs": [
    {
     "name": "stdout",
     "output_type": "stream",
     "text": [
      "2 row, 4 col: (2, 4)\n"
     ]
    }
   ],
   "source": [
    "print(\"2 row, 4 col:\", array_2d_seq.shape)"
   ]
  },
  {
   "cell_type": "code",
   "execution_count": 24,
   "id": "57bd9ef9",
   "metadata": {
    "pycharm": {
     "name": "#%%\n"
    }
   },
   "outputs": [
    {
     "name": "stdout",
     "output_type": "stream",
     "text": [
      "3 row, 0 col: (3,)\n"
     ]
    }
   ],
   "source": [
    "print(\"3 row, 0 col:\", array_int64.shape)"
   ]
  },
  {
   "cell_type": "markdown",
   "id": "058b425b",
   "metadata": {
    "pycharm": {
     "name": "#%% md\n"
    }
   },
   "source": [
    "# Redimensionamiento"
   ]
  },
  {
   "cell_type": "markdown",
   "id": "b79ba6fb",
   "metadata": {
    "pycharm": {
     "name": "#%% md\n"
    }
   },
   "source": [
    "El array _array_2d_seq_ puede redimensionarse de un tipo 2x4 a un array 4x2"
   ]
  },
  {
   "cell_type": "code",
   "execution_count": 25,
   "id": "b944a37b",
   "metadata": {
    "pycharm": {
     "name": "#%%\n"
    }
   },
   "outputs": [
    {
     "data": {
      "text/plain": [
       "array([[0, 2],\n",
       "       [4, 6],\n",
       "       [1, 3],\n",
       "       [5, 7]], dtype=int8)"
      ]
     },
     "execution_count": 25,
     "metadata": {},
     "output_type": "execute_result"
    }
   ],
   "source": [
    "array_2d_seq.reshape(4,2)"
   ]
  },
  {
   "cell_type": "markdown",
   "id": "5098c514",
   "metadata": {
    "pycharm": {
     "name": "#%% md\n"
    }
   },
   "source": [
    "Tambien se puede redimensionar a un array de 8 rows"
   ]
  },
  {
   "cell_type": "code",
   "execution_count": 26,
   "id": "cc7d36e4",
   "metadata": {
    "pycharm": {
     "name": "#%%\n"
    }
   },
   "outputs": [
    {
     "data": {
      "text/plain": [
       "array([0, 2, 4, 6, 1, 3, 5, 7], dtype=int8)"
      ]
     },
     "execution_count": 26,
     "metadata": {},
     "output_type": "execute_result"
    }
   ],
   "source": [
    "array_2d_seq.reshape(8)"
   ]
  },
  {
   "cell_type": "markdown",
   "id": "7c5bd6c5",
   "metadata": {
    "pycharm": {
     "name": "#%% md\n"
    }
   },
   "source": [
    "# Arrays de ceros"
   ]
  },
  {
   "cell_type": "markdown",
   "id": "1b00f586",
   "metadata": {
    "pycharm": {
     "name": "#%% md\n"
    }
   },
   "source": [
    "Se puede crear un array de n dimensiones con puros ceros con el método _zeros_"
   ]
  },
  {
   "cell_type": "code",
   "execution_count": 27,
   "id": "5b88fb65",
   "metadata": {
    "pycharm": {
     "name": "#%%\n"
    }
   },
   "outputs": [],
   "source": [
    "zeros_array = np.zeros((2,2))"
   ]
  },
  {
   "cell_type": "code",
   "execution_count": 28,
   "id": "ed4d0518",
   "metadata": {
    "pycharm": {
     "name": "#%%\n"
    }
   },
   "outputs": [
    {
     "name": "stdout",
     "output_type": "stream",
     "text": [
      "[[0. 0.]\n",
      " [0. 0.]]\n"
     ]
    }
   ],
   "source": [
    "print(zeros_array)"
   ]
  },
  {
   "cell_type": "markdown",
   "id": "3f87e5ec",
   "metadata": {
    "pycharm": {
     "name": "#%% md\n"
    }
   },
   "source": [
    "# Arrays de unos"
   ]
  },
  {
   "cell_type": "markdown",
   "id": "ad0c38ca",
   "metadata": {
    "pycharm": {
     "name": "#%% md\n"
    }
   },
   "source": [
    "De igual forma, se puede crear uno lleno de unos con el método _ones_"
   ]
  },
  {
   "cell_type": "code",
   "execution_count": 29,
   "id": "02564029",
   "metadata": {
    "pycharm": {
     "name": "#%%\n"
    }
   },
   "outputs": [],
   "source": [
    "ones_array = np.ones((2,2))"
   ]
  },
  {
   "cell_type": "code",
   "execution_count": 30,
   "id": "022a5d48",
   "metadata": {
    "pycharm": {
     "name": "#%%\n"
    }
   },
   "outputs": [
    {
     "name": "stdout",
     "output_type": "stream",
     "text": [
      "[[1. 1.]\n",
      " [1. 1.]]\n"
     ]
    }
   ],
   "source": [
    "print(ones_array)"
   ]
  },
  {
   "cell_type": "markdown",
   "id": "b1dceeda",
   "metadata": {
    "pycharm": {
     "name": "#%% md\n"
    }
   },
   "source": [
    "# Empty arrays o arrays random"
   ]
  },
  {
   "cell_type": "markdown",
   "id": "316cdc73",
   "metadata": {
    "pycharm": {
     "name": "#%% md\n"
    }
   },
   "source": [
    "Con el método _empty_ se puede construir arrays con datos flotantes de valores aleatorios"
   ]
  },
  {
   "cell_type": "code",
   "execution_count": 31,
   "id": "f4d27102",
   "metadata": {
    "pycharm": {
     "name": "#%%\n"
    }
   },
   "outputs": [],
   "source": [
    "empty_array = np.empty((2,2))"
   ]
  },
  {
   "cell_type": "code",
   "execution_count": 32,
   "id": "eb37c408",
   "metadata": {
    "pycharm": {
     "name": "#%%\n"
    }
   },
   "outputs": [
    {
     "name": "stdout",
     "output_type": "stream",
     "text": [
      "[[1. 1.]\n",
      " [1. 1.]]\n"
     ]
    }
   ],
   "source": [
    "print(empty_array)"
   ]
  },
  {
   "cell_type": "code",
   "execution_count": 33,
   "id": "f8c46eaa",
   "metadata": {
    "pycharm": {
     "name": "#%%\n"
    }
   },
   "outputs": [],
   "source": [
    "random_array = np.empty((2,2,2))"
   ]
  },
  {
   "cell_type": "code",
   "execution_count": 34,
   "id": "6e579308",
   "metadata": {
    "pycharm": {
     "name": "#%%\n"
    }
   },
   "outputs": [
    {
     "name": "stdout",
     "output_type": "stream",
     "text": [
      "[[[ 0.00000000e+000  0.00000000e+000]\n",
      "  [ 0.00000000e+000  0.00000000e+000]]\n",
      "\n",
      " [[ 0.00000000e+000  8.37935335e-321]\n",
      "  [ 7.76650459e-312 -1.30690795e+190]]]\n"
     ]
    }
   ],
   "source": [
    "print(random_array)"
   ]
  },
  {
   "cell_type": "markdown",
   "id": "ac841f0f",
   "metadata": {
    "pycharm": {
     "name": "#%% md\n"
    }
   },
   "source": [
    "# Matriz identidad"
   ]
  },
  {
   "cell_type": "markdown",
   "id": "0d23da86",
   "metadata": {
    "pycharm": {
     "name": "#%% md\n"
    }
   },
   "source": [
    "Con el métoco _eye_ se puede construir matrices identidades de n dimension como argumento"
   ]
  },
  {
   "cell_type": "code",
   "execution_count": 35,
   "id": "0866cc7f",
   "metadata": {
    "pycharm": {
     "name": "#%%\n"
    }
   },
   "outputs": [],
   "source": [
    "id_matrix = np.eye(10, dtype=np.int8)"
   ]
  },
  {
   "cell_type": "code",
   "execution_count": 36,
   "id": "eb5f8669",
   "metadata": {
    "pycharm": {
     "name": "#%%\n"
    }
   },
   "outputs": [
    {
     "name": "stdout",
     "output_type": "stream",
     "text": [
      "[[1 0 0 0 0 0 0 0 0 0]\n",
      " [0 1 0 0 0 0 0 0 0 0]\n",
      " [0 0 1 0 0 0 0 0 0 0]\n",
      " [0 0 0 1 0 0 0 0 0 0]\n",
      " [0 0 0 0 1 0 0 0 0 0]\n",
      " [0 0 0 0 0 1 0 0 0 0]\n",
      " [0 0 0 0 0 0 1 0 0 0]\n",
      " [0 0 0 0 0 0 0 1 0 0]\n",
      " [0 0 0 0 0 0 0 0 1 0]\n",
      " [0 0 0 0 0 0 0 0 0 1]]\n"
     ]
    }
   ],
   "source": [
    "print(id_matrix)"
   ]
  },
  {
   "cell_type": "markdown",
   "id": "21dbbbde",
   "metadata": {
    "pycharm": {
     "name": "#%% md\n"
    }
   },
   "source": [
    "También es posible desplazar la diagonal con el argumento _k_ en el método"
   ]
  },
  {
   "cell_type": "code",
   "execution_count": 37,
   "id": "5fdd46ba",
   "metadata": {
    "pycharm": {
     "name": "#%%\n"
    }
   },
   "outputs": [],
   "source": [
    "id_matrix = np.eye(10, k=-1, dtype=np.int8)"
   ]
  },
  {
   "cell_type": "code",
   "execution_count": 38,
   "id": "95767558",
   "metadata": {
    "pycharm": {
     "name": "#%%\n"
    }
   },
   "outputs": [
    {
     "name": "stdout",
     "output_type": "stream",
     "text": [
      "[[0 0 0 0 0 0 0 0 0 0]\n",
      " [1 0 0 0 0 0 0 0 0 0]\n",
      " [0 1 0 0 0 0 0 0 0 0]\n",
      " [0 0 1 0 0 0 0 0 0 0]\n",
      " [0 0 0 1 0 0 0 0 0 0]\n",
      " [0 0 0 0 1 0 0 0 0 0]\n",
      " [0 0 0 0 0 1 0 0 0 0]\n",
      " [0 0 0 0 0 0 1 0 0 0]\n",
      " [0 0 0 0 0 0 0 1 0 0]\n",
      " [0 0 0 0 0 0 0 0 1 0]]\n"
     ]
    }
   ],
   "source": [
    "print(id_matrix)"
   ]
  },
  {
   "cell_type": "markdown",
   "id": "231d3fa0",
   "metadata": {
    "pycharm": {
     "name": "#%% md\n"
    }
   },
   "source": [
    "## Reemplazo de valores en un array a traves de condiciones"
   ]
  },
  {
   "cell_type": "code",
   "execution_count": 39,
   "id": "a4ca02d6",
   "metadata": {
    "pycharm": {
     "name": "#%%\n"
    }
   },
   "outputs": [],
   "source": [
    "id_matrix[id_matrix == 0] = 9 "
   ]
  },
  {
   "cell_type": "code",
   "execution_count": 40,
   "id": "47e1be7a",
   "metadata": {
    "pycharm": {
     "name": "#%%\n"
    }
   },
   "outputs": [
    {
     "name": "stdout",
     "output_type": "stream",
     "text": [
      "[[9 9 9 9 9 9 9 9 9 9]\n",
      " [1 9 9 9 9 9 9 9 9 9]\n",
      " [9 1 9 9 9 9 9 9 9 9]\n",
      " [9 9 1 9 9 9 9 9 9 9]\n",
      " [9 9 9 1 9 9 9 9 9 9]\n",
      " [9 9 9 9 1 9 9 9 9 9]\n",
      " [9 9 9 9 9 1 9 9 9 9]\n",
      " [9 9 9 9 9 9 1 9 9 9]\n",
      " [9 9 9 9 9 9 9 1 9 9]\n",
      " [9 9 9 9 9 9 9 9 1 9]]\n"
     ]
    }
   ],
   "source": [
    "print(id_matrix)"
   ]
  },
  {
   "cell_type": "markdown",
   "id": "93d641c2",
   "metadata": {
    "pycharm": {
     "name": "#%% md\n"
    }
   },
   "source": [
    "## Remplazo de valores de una o varias filas"
   ]
  },
  {
   "cell_type": "code",
   "execution_count": 41,
   "id": "15a7bf20",
   "metadata": {
    "pycharm": {
     "name": "#%%\n"
    }
   },
   "outputs": [],
   "source": [
    "id_matrix[0:2] = 0"
   ]
  },
  {
   "cell_type": "markdown",
   "id": "283e209b",
   "metadata": {
    "pycharm": {
     "name": "#%% md\n"
    }
   },
   "source": [
    "Se reemplaza desde la fila 0 a 1 con el valor 0"
   ]
  },
  {
   "cell_type": "code",
   "execution_count": 42,
   "id": "6e222289",
   "metadata": {
    "pycharm": {
     "name": "#%%\n"
    }
   },
   "outputs": [
    {
     "name": "stdout",
     "output_type": "stream",
     "text": [
      "[[0 0 0 0 0 0 0 0 0 0]\n",
      " [0 0 0 0 0 0 0 0 0 0]\n",
      " [9 1 9 9 9 9 9 9 9 9]\n",
      " [9 9 1 9 9 9 9 9 9 9]\n",
      " [9 9 9 1 9 9 9 9 9 9]\n",
      " [9 9 9 9 1 9 9 9 9 9]\n",
      " [9 9 9 9 9 1 9 9 9 9]\n",
      " [9 9 9 9 9 9 1 9 9 9]\n",
      " [9 9 9 9 9 9 9 1 9 9]\n",
      " [9 9 9 9 9 9 9 9 1 9]]\n"
     ]
    }
   ],
   "source": [
    "print(id_matrix)"
   ]
  },
  {
   "cell_type": "markdown",
   "id": "c3bf4fdd",
   "metadata": {
    "pycharm": {
     "name": "#%% md\n"
    }
   },
   "source": [
    "## Remplazo de valores de una o varias columnas"
   ]
  },
  {
   "cell_type": "markdown",
   "id": "7aa9c967",
   "metadata": {
    "pycharm": {
     "name": "#%% md\n"
    }
   },
   "source": [
    "Se remplazan los valores desde la columna 0 a 1"
   ]
  },
  {
   "cell_type": "code",
   "execution_count": 43,
   "id": "0128ba01",
   "metadata": {
    "pycharm": {
     "name": "#%%\n"
    }
   },
   "outputs": [],
   "source": [
    "id_matrix[:, 0:2] = 0"
   ]
  },
  {
   "cell_type": "code",
   "execution_count": 44,
   "id": "7c41c516",
   "metadata": {
    "pycharm": {
     "name": "#%%\n"
    }
   },
   "outputs": [
    {
     "name": "stdout",
     "output_type": "stream",
     "text": [
      "[[0 0 0 0 0 0 0 0 0 0]\n",
      " [0 0 0 0 0 0 0 0 0 0]\n",
      " [0 0 9 9 9 9 9 9 9 9]\n",
      " [0 0 1 9 9 9 9 9 9 9]\n",
      " [0 0 9 1 9 9 9 9 9 9]\n",
      " [0 0 9 9 1 9 9 9 9 9]\n",
      " [0 0 9 9 9 1 9 9 9 9]\n",
      " [0 0 9 9 9 9 1 9 9 9]\n",
      " [0 0 9 9 9 9 9 1 9 9]\n",
      " [0 0 9 9 9 9 9 9 1 9]]\n"
     ]
    }
   ],
   "source": [
    "print(id_matrix)"
   ]
  },
  {
   "cell_type": "markdown",
   "id": "9cada118",
   "metadata": {
    "pycharm": {
     "name": "#%% md\n"
    }
   },
   "source": [
    "De forma similar se puede cambiar los valores de una columna o fila sola en especifico. Por ejemplo la columna 3,"
   ]
  },
  {
   "cell_type": "code",
   "execution_count": 45,
   "id": "3807ea84",
   "metadata": {
    "pycharm": {
     "name": "#%%\n"
    }
   },
   "outputs": [],
   "source": [
    "id_matrix[:,3]=34"
   ]
  },
  {
   "cell_type": "code",
   "execution_count": 46,
   "id": "7ffbd1ce",
   "metadata": {
    "pycharm": {
     "name": "#%%\n"
    }
   },
   "outputs": [
    {
     "name": "stdout",
     "output_type": "stream",
     "text": [
      "[[ 0  0  0 34  0  0  0  0  0  0]\n",
      " [ 0  0  0 34  0  0  0  0  0  0]\n",
      " [ 0  0  9 34  9  9  9  9  9  9]\n",
      " [ 0  0  1 34  9  9  9  9  9  9]\n",
      " [ 0  0  9 34  9  9  9  9  9  9]\n",
      " [ 0  0  9 34  1  9  9  9  9  9]\n",
      " [ 0  0  9 34  9  1  9  9  9  9]\n",
      " [ 0  0  9 34  9  9  1  9  9  9]\n",
      " [ 0  0  9 34  9  9  9  1  9  9]\n",
      " [ 0  0  9 34  9  9  9  9  1  9]]\n"
     ]
    }
   ],
   "source": [
    "print(id_matrix)"
   ]
  },
  {
   "cell_type": "markdown",
   "id": "a4523f18",
   "metadata": {
    "pycharm": {
     "name": "#%% md\n"
    }
   },
   "source": [
    "# Ordenar array"
   ]
  },
  {
   "cell_type": "markdown",
   "id": "ad7338d5",
   "metadata": {
    "pycharm": {
     "name": "#%% md\n"
    }
   },
   "source": [
    "Con el método _np.sort_ es posible ordenar cada una de las filas de un array, pasando como argumento el array a ordenar. Este metodo crea un nuevo objeto _numpy.array_ pero no modifica el objeto ya creado que no se encuentra en orden."
   ]
  },
  {
   "cell_type": "code",
   "execution_count": 47,
   "id": "270bfcf2",
   "metadata": {
    "pycharm": {
     "name": "#%%\n"
    }
   },
   "outputs": [],
   "source": [
    "disorder_array = np.array([[1, 2, -1], [23, 45, 22], [0, 99, 5]])"
   ]
  },
  {
   "cell_type": "code",
   "execution_count": 48,
   "id": "a58732a4",
   "metadata": {
    "pycharm": {
     "name": "#%%\n"
    }
   },
   "outputs": [
    {
     "name": "stdout",
     "output_type": "stream",
     "text": [
      "[[ 1  2 -1]\n",
      " [23 45 22]\n",
      " [ 0 99  5]]\n"
     ]
    }
   ],
   "source": [
    "print(disorder_array)"
   ]
  },
  {
   "cell_type": "code",
   "execution_count": 49,
   "id": "39ae8604",
   "metadata": {
    "pycharm": {
     "name": "#%%\n"
    }
   },
   "outputs": [],
   "source": [
    "sorted_array = np.sort(disorder_array)"
   ]
  },
  {
   "cell_type": "code",
   "execution_count": 50,
   "id": "e4efefb6",
   "metadata": {
    "pycharm": {
     "name": "#%%\n"
    }
   },
   "outputs": [
    {
     "name": "stdout",
     "output_type": "stream",
     "text": [
      "[[-1  1  2]\n",
      " [22 23 45]\n",
      " [ 0  5 99]]\n"
     ]
    }
   ],
   "source": [
    "print(sorted_array)"
   ]
  },
  {
   "cell_type": "markdown",
   "id": "40563c21",
   "metadata": {
    "pycharm": {
     "name": "#%% md\n"
    }
   },
   "source": [
    "También es posible modificar el orden de un array pero a traves de sus columnas"
   ]
  },
  {
   "cell_type": "code",
   "execution_count": 51,
   "id": "8c025656",
   "metadata": {
    "pycharm": {
     "name": "#%%\n"
    }
   },
   "outputs": [],
   "source": [
    "sorted_array_by_col = np.sort(disorder_array, axis=0)"
   ]
  },
  {
   "cell_type": "code",
   "execution_count": 52,
   "id": "3dfb2a52",
   "metadata": {
    "pycharm": {
     "name": "#%%\n"
    }
   },
   "outputs": [
    {
     "name": "stdout",
     "output_type": "stream",
     "text": [
      "[[ 0  2 -1]\n",
      " [ 1 45  5]\n",
      " [23 99 22]]\n"
     ]
    }
   ],
   "source": [
    "print(sorted_array_by_col)"
   ]
  },
  {
   "cell_type": "markdown",
   "id": "673e251f",
   "metadata": {
    "pycharm": {
     "name": "#%% md\n"
    }
   },
   "source": [
    "# Copiar arrays"
   ]
  },
  {
   "cell_type": "markdown",
   "id": "f0b9acdf",
   "metadata": {
    "pycharm": {
     "name": "#%% md\n"
    }
   },
   "source": [
    "## Copia de referencias con método _view_ "
   ]
  },
  {
   "cell_type": "code",
   "execution_count": 53,
   "id": "0004d977",
   "metadata": {
    "pycharm": {
     "name": "#%%\n"
    }
   },
   "outputs": [],
   "source": [
    "array1 = np.array([[1,2,3],[22,3,4]])"
   ]
  },
  {
   "cell_type": "code",
   "execution_count": 54,
   "id": "7752bcd6",
   "metadata": {
    "pycharm": {
     "name": "#%%\n"
    }
   },
   "outputs": [],
   "source": [
    "array2_view = array1.view()"
   ]
  },
  {
   "cell_type": "code",
   "execution_count": 55,
   "id": "a1497208",
   "metadata": {
    "pycharm": {
     "name": "#%%\n"
    }
   },
   "outputs": [
    {
     "name": "stdout",
     "output_type": "stream",
     "text": [
      "[[ 1  2  3]\n",
      " [22  3  4]] \n",
      "\n",
      "[[ 1  2  3]\n",
      " [22  3  4]] \n",
      "\n"
     ]
    }
   ],
   "source": [
    "print(array1, '\\n')\n",
    "print(array2_view, '\\n')"
   ]
  },
  {
   "cell_type": "markdown",
   "id": "bd69da0c",
   "metadata": {
    "pycharm": {
     "name": "#%% md\n"
    }
   },
   "source": [
    "Con el método _view_ se puede copiar los valores, pero en realidad se copian las referencias del banco de memoria. Al modificar __array2_view__ se modifica también __array1__"
   ]
  },
  {
   "cell_type": "code",
   "execution_count": 56,
   "id": "a5742bb5",
   "metadata": {
    "pycharm": {
     "name": "#%%\n"
    }
   },
   "outputs": [
    {
     "name": "stdout",
     "output_type": "stream",
     "text": [
      "[[44 44 44]\n",
      " [44 44 44]] \n",
      "\n",
      "[[44 44 44]\n",
      " [44 44 44]]\n"
     ]
    }
   ],
   "source": [
    "array2_view[:]=44\n",
    "print(array2_view,'\\n')\n",
    "print(array1)"
   ]
  },
  {
   "cell_type": "markdown",
   "id": "46ba148f",
   "metadata": {
    "pycharm": {
     "name": "#%% md\n"
    }
   },
   "source": [
    "## Copia de valores a un nuevo espacio de memoria con método _copy_ "
   ]
  },
  {
   "cell_type": "code",
   "execution_count": 57,
   "id": "8a229c24",
   "metadata": {
    "pycharm": {
     "name": "#%%\n"
    }
   },
   "outputs": [],
   "source": [
    "array1 = np.array([[1,2,3],[22,3,4]])"
   ]
  },
  {
   "cell_type": "code",
   "execution_count": 58,
   "id": "9e63f1bc",
   "metadata": {
    "pycharm": {
     "name": "#%%\n"
    }
   },
   "outputs": [
    {
     "name": "stdout",
     "output_type": "stream",
     "text": [
      "[[ 1  2  3]\n",
      " [22  3  4]] \n",
      "\n",
      "[[ 1  2  3]\n",
      " [22  3  4]] \n",
      "\n"
     ]
    }
   ],
   "source": [
    "array2_copy = array1.copy()\n",
    "print(array2_copy,'\\n')\n",
    "print(array1,'\\n')"
   ]
  },
  {
   "cell_type": "markdown",
   "id": "887746c8",
   "metadata": {
    "pycharm": {
     "name": "#%% md\n"
    }
   },
   "source": [
    "Al modificar __array2_copy__ se modifica solo esta variable ya que es un nuevo banco de memoria independiente."
   ]
  },
  {
   "cell_type": "code",
   "execution_count": 63,
   "id": "3eb743d0",
   "metadata": {
    "pycharm": {
     "name": "#%%\n"
    }
   },
   "outputs": [
    {
     "ename": "IndentationError",
     "evalue": "unexpected indent (Temp/ipykernel_8812/3452386707.py, line 3)",
     "output_type": "error",
     "traceback": [
      "\u001B[1;36m  File \u001B[1;32m\"C:\\Users\\abelm\\AppData\\Local\\Temp/ipykernel_8812/3452386707.py\"\u001B[1;36m, line \u001B[1;32m3\u001B[0m\n\u001B[1;33m    print(array1, '\\n')\u001B[0m\n\u001B[1;37m    ^\u001B[0m\n\u001B[1;31mIndentationError\u001B[0m\u001B[1;31m:\u001B[0m unexpected indent\n"
     ]
    }
   ],
   "source": [
    "array2_copy[:]=4\n",
    "print(array2_copy,'\\n')\n",
    "print(array1, '\\n')"
   ]
  },
  {
   "cell_type": "markdown",
   "id": "83a74b3a",
   "metadata": {
    "pycharm": {
     "name": "#%% md\n"
    }
   },
   "source": [
    "# linspace"
   ]
  },
  {
   "cell_type": "markdown",
   "id": "4a69536f",
   "metadata": {
    "pycharm": {
     "name": "#%% md\n"
    }
   },
   "source": [
    "Permite definir un _numpy.array_ desde un valor con n elementos equidistantes entre ellos"
   ]
  },
  {
   "cell_type": "code",
   "execution_count": 62,
   "id": "7782fe2e",
   "metadata": {
    "pycharm": {
     "name": "#%%\n"
    }
   },
   "outputs": [
    {
     "name": "stdout",
     "output_type": "stream",
     "text": [
      "[ 0.          1.11111111  2.22222222  3.33333333  4.44444444  5.55555556\n",
      "  6.66666667  7.77777778  8.88888889 10.        ]\n"
     ]
    }
   ],
   "source": [
    "eq_space = np.linspace(0,10,10)\n",
    "print(eq_space)"
   ]
  },
  {
   "cell_type": "markdown",
   "id": "9a27a077",
   "metadata": {
    "pycharm": {
     "name": "#%% md\n"
    }
   },
   "source": [
    "Es útil ya que permite calcular automáticamente el equiespaciado entre dos valores cualesquiera."
   ]
  }
 ],
 "metadata": {
  "kernelspec": {
   "display_name": "Python 3 (ipykernel)",
   "language": "python",
   "name": "python3"
  },
  "language_info": {
   "codemirror_mode": {
    "name": "ipython",
    "version": 3
   },
   "file_extension": ".py",
   "mimetype": "text/x-python",
   "name": "python",
   "nbconvert_exporter": "python",
   "pygments_lexer": "ipython3",
   "version": "3.9.7"
  }
 },
 "nbformat": 4,
 "nbformat_minor": 5
}